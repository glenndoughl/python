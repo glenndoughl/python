{
 "cells": [
  {
   "cell_type": "code",
   "execution_count": 1,
   "id": "85b430e8-c0d3-4069-b025-c0e41c371d26",
   "metadata": {},
   "outputs": [],
   "source": [
    "import awswrangler as wr\n",
    "import pandas as pd\n",
    "import psycopg2\n",
    "import boto3\n",
    "from io import StringIO\n"
   ]
  },
  {
   "cell_type": "code",
   "execution_count": 2,
   "id": "e5bb6d24-86b2-4ab1-b38e-ae1bdb37ce7a",
   "metadata": {},
   "outputs": [],
   "source": [
    "url = \"testdb-postgres.csiq3pk4unqp.ap-southeast-1.rds.amazonaws.com\"\n",
    "db = \"testdb\"\n",
    "username = \"postgres\"\n",
    "pwd = \"test1234\"\n",
    "port_id = \"5432\""
   ]
  },
  {
   "cell_type": "code",
   "execution_count": 3,
   "id": "40a4102a-1572-445e-9c09-cd22d45977de",
   "metadata": {},
   "outputs": [],
   "source": [
    "conn = psycopg2.connect(\n",
    "    host = url,\n",
    "    dbname = db,\n",
    "    user = username,\n",
    "    password = pwd,\n",
    "    port = port_id\n",
    ")\n",
    "cur = conn.cursor()"
   ]
  },
  {
   "cell_type": "code",
   "execution_count": 4,
   "id": "e9cc4174-a732-40a5-8abc-d0e15f98de21",
   "metadata": {},
   "outputs": [],
   "source": [
    "sql_query = 'Select * from public.\"CUSTOMER\"'\n"
   ]
  },
  {
   "cell_type": "code",
   "execution_count": 5,
   "id": "4e7ebda7-ec2f-4f93-8b07-621eb3455af9",
   "metadata": {},
   "outputs": [
    {
     "name": "stderr",
     "output_type": "stream",
     "text": [
      "C:\\Users\\glenn\\AppData\\Local\\Temp\\ipykernel_7448\\3058541337.py:1: UserWarning: pandas only supports SQLAlchemy connectable (engine/connection) or database string URI or sqlite3 DBAPI2 connection. Other DBAPI2 objects are not tested. Please consider using SQLAlchemy.\n",
      "  df_rds = pd.read_sql(sql_query, conn)\n"
     ]
    }
   ],
   "source": [
    "df_rds = pd.read_sql(sql_query, conn)"
   ]
  },
  {
   "cell_type": "code",
   "execution_count": 10,
   "id": "9d1b44d0-a008-4aaa-b2b4-08befc5ea942",
   "metadata": {},
   "outputs": [
    {
     "data": {
      "text/plain": [
       "{'ResponseMetadata': {'RequestId': 'HE51HD5KSJRX2B84',\n",
       "  'HostId': 'uP1kLJTFo5X0T57TtP7yG+68ZST7NXg5BIOW8k2PIAHzoVdzVyS+cpg6rvGLG+m4wwa7915l+qHyu/x5ji9jAg==',\n",
       "  'HTTPStatusCode': 200,\n",
       "  'HTTPHeaders': {'x-amz-id-2': 'uP1kLJTFo5X0T57TtP7yG+68ZST7NXg5BIOW8k2PIAHzoVdzVyS+cpg6rvGLG+m4wwa7915l+qHyu/x5ji9jAg==',\n",
       "   'x-amz-request-id': 'HE51HD5KSJRX2B84',\n",
       "   'date': 'Tue, 22 Nov 2022 12:25:53 GMT',\n",
       "   'etag': '\"79ad31d5fa6729a5e7dfbc6d55159ea4\"',\n",
       "   'server': 'AmazonS3',\n",
       "   'content-length': '0'},\n",
       "  'RetryAttempts': 0},\n",
       " 'ETag': '\"79ad31d5fa6729a5e7dfbc6d55159ea4\"'}"
      ]
     },
     "execution_count": 10,
     "metadata": {},
     "output_type": "execute_result"
    }
   ],
   "source": [
    "bucket = 'testbucket-postgres'\n",
    "csv_buffer = StringIO()\n",
    "df_rds.to_csv(csv_buffer)\n",
    "s3_resource = boto3.resource('s3')\n",
    "s3_resource.Object(bucket, 'postgres_data.csv').put(Body=csv_buffer.getvalue())"
   ]
  },
  {
   "cell_type": "code",
   "execution_count": null,
   "id": "c7e52a2f-8616-4de0-8766-e5304d6f8d85",
   "metadata": {},
   "outputs": [],
   "source": []
  },
  {
   "cell_type": "code",
   "execution_count": null,
   "id": "b70b0633-673a-46e3-9dc8-091e323801b3",
   "metadata": {},
   "outputs": [],
   "source": []
  }
 ],
 "metadata": {
  "kernelspec": {
   "display_name": "Python 3 (ipykernel)",
   "language": "python",
   "name": "python3"
  },
  "language_info": {
   "codemirror_mode": {
    "name": "ipython",
    "version": 3
   },
   "file_extension": ".py",
   "mimetype": "text/x-python",
   "name": "python",
   "nbconvert_exporter": "python",
   "pygments_lexer": "ipython3",
   "version": "3.9.15"
  }
 },
 "nbformat": 4,
 "nbformat_minor": 5
}
