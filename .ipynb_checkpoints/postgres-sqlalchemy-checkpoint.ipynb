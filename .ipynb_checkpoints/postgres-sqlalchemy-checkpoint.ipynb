{
 "cells": [
  {
   "cell_type": "code",
   "execution_count": 1,
   "id": "85b430e8-c0d3-4069-b025-c0e41c371d26",
   "metadata": {},
   "outputs": [],
   "source": [
    "import pandas as pd\n",
    "import psycopg2\n",
    "import boto3\n",
    "from io import StringIO\n"
   ]
  },
  {
   "cell_type": "code",
   "execution_count": 2,
   "id": "40a4102a-1572-445e-9c09-cd22d45977de",
   "metadata": {},
   "outputs": [],
   "source": [
    "conn = psycopg2.connect(\n",
    "    host = \"testdb-postgres.csiq3pk4unqp.ap-southeast-1.rds.amazonaws.com\",\n",
    "    dbname = \"testdb\",\n",
    "    user = \"postgres\",\n",
    "    password = \"test1234\",\n",
    "    port = \"5432\"\n",
    ")\n",
    "\n",
    "\n",
    "cur = conn.cursor()"
   ]
  },
  {
   "cell_type": "code",
   "execution_count": 3,
   "id": "69da75d4-64e7-4f1e-92ec-59f443b054e5",
   "metadata": {},
   "outputs": [],
   "source": [
    "psql_toS3 = rf\"\"\"SELECT * from aws_s3.query_export_to_s3('select * from public.\"CUSTOMER\"', \n",
    "   aws_commons.create_s3_uri('testbucket-postgres', 'data/rds.csv', 'ap-southeast-1')\n",
    ");\"\"\""
   ]
  },
  {
   "cell_type": "code",
   "execution_count": null,
   "id": "ca87800d-a0bf-4177-9fbd-e57e260cbc06",
   "metadata": {},
   "outputs": [],
   "source": [
    "SELECT * FROM aws_s3.query_export_to_s3('SELECT * FROM sample_table', :'s3_uri_1', options :='format csv');"
   ]
  },
  {
   "cell_type": "code",
   "execution_count": 4,
   "id": "ad94d79e-a77f-49bd-bb07-8bac962e7290",
   "metadata": {},
   "outputs": [],
   "source": [
    "cur.execute(psql_toS3)"
   ]
  },
  {
   "cell_type": "code",
   "execution_count": null,
   "id": "e9cc4174-a732-40a5-8abc-d0e15f98de21",
   "metadata": {},
   "outputs": [],
   "source": [
    "query = \n",
    "'''Select\n",
    "        \"CUST_NAME\",\n",
    "        \"CUST_CITY\"\n",
    "    FROM\n",
    "        public.\"CUSTOMER\"\n",
    "    WHERE\n",
    "        \"CUST_COUNTRY\" = \\'India\\''''\n"
   ]
  },
  {
   "cell_type": "code",
   "execution_count": null,
   "id": "4e7ebda7-ec2f-4f93-8b07-621eb3455af9",
   "metadata": {},
   "outputs": [],
   "source": [
    "df_rds = pd.read_sql(query, conn)"
   ]
  },
  {
   "cell_type": "code",
   "execution_count": null,
   "id": "7eb12a2a-da6b-4210-884f-e70ec2f7f19c",
   "metadata": {},
   "outputs": [],
   "source": [
    "print(df_rds)"
   ]
  },
  {
   "cell_type": "code",
   "execution_count": null,
   "id": "9d1b44d0-a008-4aaa-b2b4-08befc5ea942",
   "metadata": {
    "tags": []
   },
   "outputs": [],
   "source": [
    "bucket = 'testbucket-postgres'\n",
    "csv_buffer = StringIO()\n",
    "df_rds.to_csv(csv_buffer)\n",
    "s3_resource = boto3.resource('s3')\n",
    "s3_resource.Object(bucket, 'postgres_data_where.csv').put(Body=csv_buffer.getvalue())"
   ]
  },
  {
   "cell_type": "code",
   "execution_count": null,
   "id": "c7e52a2f-8616-4de0-8766-e5304d6f8d85",
   "metadata": {
    "tags": []
   },
   "outputs": [],
   "source": [
    "df_rds.to_parquet(,)"
   ]
  },
  {
   "cell_type": "code",
   "execution_count": null,
   "id": "b70b0633-673a-46e3-9dc8-091e323801b3",
   "metadata": {},
   "outputs": [],
   "source": []
  }
 ],
 "metadata": {
  "kernelspec": {
   "display_name": "Python 3 (ipykernel)",
   "language": "python",
   "name": "python3"
  },
  "language_info": {
   "codemirror_mode": {
    "name": "ipython",
    "version": 3
   },
   "file_extension": ".py",
   "mimetype": "text/x-python",
   "name": "python",
   "nbconvert_exporter": "python",
   "pygments_lexer": "ipython3",
   "version": "3.9.15"
  }
 },
 "nbformat": 4,
 "nbformat_minor": 5
}
