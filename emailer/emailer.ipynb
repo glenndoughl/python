{
 "cells": [
  {
   "cell_type": "code",
   "execution_count": 1,
   "metadata": {},
   "outputs": [],
   "source": [
    "import win32com.client as win32\n",
    "import os\n",
    "import datetime"
   ]
  },
  {
   "cell_type": "code",
   "execution_count": 2,
   "metadata": {},
   "outputs": [],
   "source": [
    "olApp = win32.Dispatch(\"Outlook.application\")\n",
    "olNS = olApp.GetNameSpace(\"MAPI\")"
   ]
  },
  {
   "cell_type": "code",
   "execution_count": 3,
   "metadata": {},
   "outputs": [],
   "source": [
    "mailItem = olApp.CreateItem(0)\n",
    "mailItem.Subject = \"Dummy email\"\n",
    "mailItem.BodyFormat = 1\n",
    "mailItem.To = \"glenndoughl@gmail.com; crio.aspan@gmail.com\"\n",
    "From = \"glennvictorinolatayan@gmail.com\"\n"
   ]
  },
  {
   "cell_type": "code",
   "execution_count": 5,
   "metadata": {},
   "outputs": [],
   "source": [
    "html_template = open(\"TEMPLATEtli.html\", \"r\")\n",
    "string_template =html_template.read()\n",
    "\n",
    "DATE = datetime.date.today()\n",
    "mailItem.HTMLBody = rf'''{string_template}'''"
   ]
  },
  {
   "cell_type": "code",
   "execution_count": null,
   "metadata": {},
   "outputs": [],
   "source": [
    "mailItem.Display()"
   ]
  },
  {
   "cell_type": "code",
   "execution_count": null,
   "metadata": {},
   "outputs": [],
   "source": [
    "# mailItem.Send"
   ]
  },
  {
   "cell_type": "code",
   "execution_count": null,
   "metadata": {},
   "outputs": [],
   "source": []
  }
 ],
 "metadata": {
  "kernelspec": {
   "display_name": "Python 3.10.6 ('emailer')",
   "language": "python",
   "name": "python3"
  },
  "language_info": {
   "codemirror_mode": {
    "name": "ipython",
    "version": 3
   },
   "file_extension": ".py",
   "mimetype": "text/x-python",
   "name": "python",
   "nbconvert_exporter": "python",
   "pygments_lexer": "ipython3",
   "version": "3.10.6"
  },
  "orig_nbformat": 4,
  "vscode": {
   "interpreter": {
    "hash": "d31de51c65a070c0886a3b527111923e27a5d5669fe3b0c3bf473904b44f23ab"
   }
  }
 },
 "nbformat": 4,
 "nbformat_minor": 2
}
